{
 "cells": [
  {
   "cell_type": "markdown",
   "id": "a1e39abb",
   "metadata": {},
   "source": [
    "1.\n",
    "a = 0\n",
    "def b():\n",
    "    global a\n",
    "    a= c(a)\n",
    "    \n",
    "def c(a):\n",
    "    return a + 2\n",
    "\n",
    "\n",
    "b()\n",
    "b()\n",
    "b()\n",
    "a\n",
    "\n",
    "The output gives 6 as the answer, after running the first b(), a becomes 2 and is increased by 2 everytime the b() is called, a total of 3 times puts the value of a = 6. Though, a is instantiated to 0, it's declared as global within the function call and that holds."
   ]
  },
  {
   "cell_type": "code",
   "execution_count": 15,
   "id": "859164e8",
   "metadata": {},
   "outputs": [
    {
     "name": "stdout",
     "output_type": "stream",
     "text": [
      "32\n"
     ]
    }
   ],
   "source": [
    "2.\n",
    "import os\n",
    "def fileLength(file_name):\n",
    "    if os.path.exists(file_name):\n",
    "        f = open(file_name)\n",
    "        cont = f.read()\n",
    "        f.close()\n",
    "        print(len(cont))\n",
    "    else:\n",
    "        print('File ' + file_name + ' not found.')\n",
    "\n",
    "fileLength('midterm.txt')"
   ]
  },
  {
   "cell_type": "code",
   "execution_count": 2,
   "id": "120e5764",
   "metadata": {},
   "outputs": [
    {
     "name": "stdout",
     "output_type": "stream",
     "text": [
      "['doll', 'firetruck', 'kitten']\n"
     ]
    }
   ],
   "source": [
    "3.\n",
    "\n",
    "class Marsupial:\n",
    "    def __init__(self):\n",
    "        self.pouch = []\n",
    "    \n",
    "    def put_in_pouch(self, item):\n",
    "        self.pouch.append(item)\n",
    "        \n",
    "    def pouch_contents(self):\n",
    "        print(self.pouch)\n",
    "\n",
    "    \n",
    "m = Marsupial()\n",
    "m.put_in_pouch('doll')\n",
    "m.put_in_pouch('firetruck')\n",
    "m.put_in_pouch('kitten')\n",
    "m.pouch_contents()"
   ]
  },
  {
   "cell_type": "code",
   "execution_count": 3,
   "id": "4bde2052",
   "metadata": {},
   "outputs": [
    {
     "name": "stdout",
     "output_type": "stream",
     "text": [
      "I am a Kangaroo located at coordinates (0,0)\n",
      "['doll', 'firetruck', 'kitten']\n",
      "I am a Kangaroo located at coordinates (3,0)\n"
     ]
    }
   ],
   "source": [
    "B.\n",
    "class Marsupial:\n",
    "    def __init__(self, xcoord, ycoord):\n",
    "        self.pouch = []\n",
    "        self.x = xcoord\n",
    "        self.y = ycoord\n",
    "    \n",
    "    def put_in_pouch(self, item):\n",
    "        self.pouch.append(item)\n",
    "        \n",
    "    def pouch_contents(self):\n",
    "        print(self.pouch)\n",
    "\n",
    "class Kangaroo(Marsupial):\n",
    "    def __str__(self):\n",
    "        message = 'I am a Kangaroo located at coordinates ({},{})'.format(self.x,self.y)\n",
    "        return message\n",
    "    \n",
    "    def jump(self, dx, dy):\n",
    "        self.x += dx\n",
    "        self.y += dy\n",
    "    \n",
    "k = Kangaroo(0,0)\n",
    "print(k)\n",
    "k.put_in_pouch('doll')\n",
    "k.put_in_pouch('firetruck')\n",
    "k.put_in_pouch('kitten')\n",
    "k.pouch_contents()\n",
    "k.jump(1,0)\n",
    "k.jump(1,0)\n",
    "k.jump(1,0)\n",
    "print(k)"
   ]
  },
  {
   "cell_type": "code",
   "execution_count": 4,
   "id": "84b53730",
   "metadata": {},
   "outputs": [
    {
     "name": "stdout",
     "output_type": "stream",
     "text": [
      "16\n",
      "8\n",
      "4\n",
      "2\n",
      "1\n"
     ]
    }
   ],
   "source": [
    "4.\n",
    "def collatz(x):\n",
    "    print(x)\n",
    "    while x!=1:\n",
    "        if x % 2 == 1:\n",
    "            x = 3 * x + 1\n",
    "        else:\n",
    "            x = x / 2\n",
    "        print(int(x))\n",
    "        \n",
    "collatz(16)"
   ]
  },
  {
   "cell_type": "code",
   "execution_count": 20,
   "id": "156318d6",
   "metadata": {},
   "outputs": [
    {
     "data": {
      "text/plain": [
       "101000"
      ]
     },
     "execution_count": 20,
     "metadata": {},
     "output_type": "execute_result"
    }
   ],
   "source": [
    "5.\n",
    "def binary(a):\n",
    "    if a < 0:\n",
    "        print('Please enter non-negative integer')\n",
    "    elif a == 0:\n",
    "        return 0\n",
    "    else:\n",
    "        bin = ''\n",
    "        while a >= 1:\n",
    "            remainder = str((a % 2))\n",
    "            bin = remainder + bin\n",
    "            a = a // 2\n",
    "        return int(bin)\n",
    "\n",
    "binary(40)"
   ]
  },
  {
   "cell_type": "code",
   "execution_count": null,
   "id": "3637b7bb",
   "metadata": {},
   "outputs": [],
   "source": [
    "6.\n",
    "from html.parser import HTMLParser\n",
    "\n",
    "class HeadingParser(HTMLParser):\n",
    "    def __init__(self):\n",
    "        HTMLParser.__init__(self)\n",
    "        self.start = False\n",
    "        self.hearder = ''\n",
    "    \n",
    "    def handle_starttag(self, tag, attrs):\n",
    "        if len(tag) == 2:\n",
    "            if tag[:1] == 'h':\n",
    "                self.start = True\n",
    "                self.header = tag\n",
    "    \n",
    "    def handle_data(self, data):\n",
    "        if self.start == True:\n",
    "            if data.strip():\n",
    "                indt = int(self.header[1:])-1\n",
    "                print(' '*indt + data)\n",
    "\n",
    "infile = open('w3c.txt')\n",
    "content = infile.read()\n",
    "infile.close()\n",
    "hp = HeadingParser()\n",
    "hp.feed(content)"
   ]
  },
  {
   "cell_type": "code",
   "execution_count": 18,
   "id": "32466a68",
   "metadata": {},
   "outputs": [
    {
     "name": "stdout",
     "output_type": "stream",
     "text": [
      "http://reed.cs.depaul.edu/lperkovic/csc242/test1.html\n"
     ]
    }
   ],
   "source": [
    "7.\n",
    "import requests\n",
    "import re\n",
    "\n",
    "def webdir(url, depth, indent=0):\n",
    "    if depth < 0:\n",
    "        return\n",
    "    print(' ' * indent + url)\n",
    "    try:\n",
    "        response = requests.get(url)\n",
    "        html = response.text\n",
    "        for link in re.findall(r'href=[\\'\"]?([^\\'\" >]+)', html):\n",
    "            if link.startswith('http'):\n",
    "                new_url = link\n",
    "            else:\n",
    "                new_url = urljoin(url, link)\n",
    "            webdir(new_url, depth - 1, indent + 4)\n",
    "    except requests.exceptions.RequestException as e:\n",
    "        print(' ' * indent + f'Request Error: {e}')\n",
    "\n",
    "webdir('http://reed.cs.depaul.edu/lperkovic/csc242/test1.html' ,  2,  0)"
   ]
  },
  {
   "cell_type": "code",
   "execution_count": null,
   "id": "a58fd058",
   "metadata": {},
   "outputs": [],
   "source": [
    "8.\n",
    "%%sql\n",
    "\n",
    "INSERT INTO Weather VALUES('Mumbai', 'India', 'Winter', 24.8,5.9),\n",
    "('Mumbai', 'India', 'Spring', 28.4,16.2),\n",
    "('Mumbai', 'India', 'Summer', 27.9,1549.4),\n",
    "('Mumbai', 'India', 'Fall', 27.6,346.0),\n",
    "('London', 'United kingdom', 'Winter', 4.2,207.7),\n",
    "('London', 'United kingdom', 'Spring', 8.3,169.6),\n",
    "('London', 'United kingdom','Summer', 15.7,157.0),\n",
    "('London', 'United kingdom','Fall', 10.4,218.5),\n",
    "('Cairo', 'Egypt','Winter', 13.6,16.5),\n",
    "('Cairo', 'Egypt', 'Spring', 20.7,6.5),\n",
    "('Cairo', 'Egypt', 'Summer', 27.7,0.1),\n",
    "('Cairo', 'Egypt', 'Fall', 22.2,4.5)\n",
    "\n",
    "a.\n",
    "\n",
    "%%sql\n",
    "\n",
    "SELECT Temperature FROM Weather;\n",
    "\n",
    "b.\n",
    "%%sql\n",
    "\n",
    "SELECT DISTINCT City FROM Weather;\n",
    "\n",
    "c.\n",
    "\n",
    "%%sql\n",
    "\n",
    "SELECT * FROM Weather\n",
    "WHERE Country LIKE 'India';\n",
    "\n",
    "d.\n",
    "%%sql\n",
    "\n",
    "SELECT * FROM Weather\n",
    "WHERE season LIKE 'Fall';\n",
    "\n",
    "e.\n",
    "%%sql\n",
    "\n",
    "SELECT City, Country, Season FROM Weather\n",
    "WHERE Rainfall >= 200 AND Rainfall <=400;\n",
    "\n",
    "f.\n",
    "%%sql\n",
    "\n",
    "SELECT City, Country FROM Weather\n",
    "WHERE Temperature > 20 AND Season LIKE 'Fall'\n",
    "ORDER BY Temperature ASC;\n",
    "\n",
    "g.\n",
    "%%sql\n",
    "\n",
    "SELECT SUM(Rainfall) AS Total_Rainfall FROM Weather\n",
    "WHERE City LIKE 'Cairo';\n",
    "\n",
    "h.\n",
    "%%sql\n",
    "\n",
    "SELECT season, SUM(Rainfall) AS Total_Rainfall FROM Weather\n",
    "GROUP BY season;\n"
   ]
  },
  {
   "cell_type": "code",
   "execution_count": 6,
   "id": "99fc0909",
   "metadata": {},
   "outputs": [
    {
     "name": "stdout",
     "output_type": "stream",
     "text": [
      "['THE', 'QUICK', 'BROWN', 'FOX', 'JUMPS', 'OVER', 'THE', 'LAZY', 'DOG']\n",
      "['the', 'quick', 'brown', 'fox', 'jumps', 'over', 'the', 'lazy', 'dog']\n",
      "[3, 5, 5, 3, 5, 4, 3, 4, 3]\n",
      "[['THE', 'the', 3], ['QUICK', 'quick', 5], ['BROWN', 'brown', 5], ['FOX', 'fox', 3], ['JUMPS', 'jumps', 5], ['OVER', 'over', 4], ['THE', 'the', 3], ['LAZY', 'lazy', 4], ['DOG', 'dog', 3]]\n",
      "['quick', 'brown', 'jumps', 'over', 'lazy']\n"
     ]
    }
   ],
   "source": [
    "9.\n",
    "\n",
    "words = ['The', 'quick', 'brown', 'fox', 'jumps', 'over', 'the', 'lazy', 'dog']\n",
    "\n",
    "x = []\n",
    "for word in words:\n",
    "    x.append(word.upper())\n",
    "    \n",
    "print(x)\n",
    "\n",
    "y = []\n",
    "for word in words:\n",
    "    y.append(word.lower())\n",
    "print(y)\n",
    "\n",
    "z = []\n",
    "for word in words:\n",
    "    z.append(len(word))\n",
    "    \n",
    "print(z)\n",
    "\n",
    "a = []\n",
    "for word in words:\n",
    "    list = []\n",
    "    list.append(word.upper())\n",
    "    list.append(word.lower())\n",
    "    list.append(len(word))\n",
    "    a.append(list)\n",
    "    \n",
    "print(a)\n",
    "\n",
    "b = []\n",
    "for word in words:\n",
    "    if len(word) >= 4:\n",
    "        b.append(word)\n",
    "\n",
    "print(b)"
   ]
  },
  {
   "cell_type": "code",
   "execution_count": null,
   "id": "6ec927fb",
   "metadata": {},
   "outputs": [],
   "source": []
  }
 ],
 "metadata": {
  "kernelspec": {
   "display_name": "Python 3 (ipykernel)",
   "language": "python",
   "name": "python3"
  },
  "language_info": {
   "codemirror_mode": {
    "name": "ipython",
    "version": 3
   },
   "file_extension": ".py",
   "mimetype": "text/x-python",
   "name": "python",
   "nbconvert_exporter": "python",
   "pygments_lexer": "ipython3",
   "version": "3.9.13"
  }
 },
 "nbformat": 4,
 "nbformat_minor": 5
}
